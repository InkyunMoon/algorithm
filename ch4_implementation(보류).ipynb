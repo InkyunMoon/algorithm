{
 "cells": [
  {
   "cell_type": "code",
   "execution_count": 7,
   "metadata": {},
   "outputs": [
    {
     "name": "stdout",
     "output_type": "stream",
     "text": [
      "5\n",
      "R R R U D D\n"
     ]
    }
   ],
   "source": [
    "# 4-1 상하좌우\n",
    "\n",
    "N = int(input())\n",
    "plan = list(input().split())"
   ]
  },
  {
   "cell_type": "code",
   "execution_count": 17,
   "metadata": {},
   "outputs": [
    {
     "name": "stdout",
     "output_type": "stream",
     "text": [
      "4 0\n"
     ]
    }
   ],
   "source": [
    "current_x = 1\n",
    "current_y = 1\n",
    "\n",
    "for direction in plan:\n",
    "    if (current_x <= 0)|(current_y <= 0)|(current_x > N)|(current_y > N):\n",
    "        break\n",
    "\n",
    "    if direction == 'R':\n",
    "        current_x += 1\n",
    "    elif direction == 'L':\n",
    "        current_x -= 1\n",
    "    elif direction == 'U':\n",
    "        current_y -= 1\n",
    "    elif direction == 'D':\n",
    "        current_y += 1\n",
    "        \n",
    "    if 0 in [current_x, current_y]:\n",
    "        \n",
    "\n",
    "print(current_x, current_y)"
   ]
  },
  {
   "cell_type": "code",
   "execution_count": 18,
   "metadata": {},
   "outputs": [
    {
     "data": {
      "text/plain": [
       "['R', 'R', 'R', 'U', 'D', 'D']"
      ]
     },
     "execution_count": 18,
     "metadata": {},
     "output_type": "execute_result"
    }
   ],
   "source": [
    "plan"
   ]
  },
  {
   "cell_type": "code",
   "execution_count": 22,
   "metadata": {},
   "outputs": [
    {
     "data": {
      "text/plain": [
       "True"
      ]
     },
     "execution_count": 22,
     "metadata": {},
     "output_type": "execute_result"
    }
   ],
   "source": [
    "0 in [current_x, current_y]"
   ]
  },
  {
   "cell_type": "code",
   "execution_count": 23,
   "metadata": {},
   "outputs": [],
   "source": [
    "current_x = 1\n",
    "current_y = 1\n",
    "\n",
    "temp = [current_x, current_y]"
   ]
  },
  {
   "cell_type": "code",
   "execution_count": 24,
   "metadata": {},
   "outputs": [
    {
     "data": {
      "text/plain": [
       "[1, 1]"
      ]
     },
     "execution_count": 24,
     "metadata": {},
     "output_type": "execute_result"
    }
   ],
   "source": []
  }
 ],
 "metadata": {
  "kernelspec": {
   "display_name": "Python 3",
   "language": "python",
   "name": "python3"
  },
  "language_info": {
   "codemirror_mode": {
    "name": "ipython",
    "version": 3
   },
   "file_extension": ".py",
   "mimetype": "text/x-python",
   "name": "python",
   "nbconvert_exporter": "python",
   "pygments_lexer": "ipython3",
   "version": "3.8.5"
  }
 },
 "nbformat": 4,
 "nbformat_minor": 4
}
