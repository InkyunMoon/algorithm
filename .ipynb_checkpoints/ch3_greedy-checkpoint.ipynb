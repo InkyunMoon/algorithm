{
 "cells": [
  {
   "cell_type": "markdown",
   "metadata": {},
   "source": [
    "# 1번"
   ]
  },
  {
   "cell_type": "code",
   "execution_count": 1,
   "metadata": {},
   "outputs": [
    {
     "name": "stdout",
     "output_type": "stream",
     "text": [
      "6\n"
     ]
    }
   ],
   "source": [
    "# 1번\n",
    "# 거슬러 주어야 할 돈 N원\n",
    "# 동전의 최소 갯수?\n",
    "\n",
    "total = 1260\n",
    "change_list = [500, 100, 50, 10]\n",
    "count = 0\n",
    "\n",
    "for change in change_list:\n",
    "    if total // change > 0:\n",
    "        count += (total // change)\n",
    "        total -= (total // change) * change\n",
    "\n",
    "print(count)"
   ]
  },
  {
   "cell_type": "code",
   "execution_count": 1,
   "metadata": {},
   "outputs": [
    {
     "name": "stdout",
     "output_type": "stream",
     "text": [
      "6\n"
     ]
    }
   ],
   "source": [
    "# 1번문제 again\n",
    "\n",
    "total = 1260\n",
    "change_list = [500, 100, 50, 10]\n",
    "count = 0\n",
    "\n",
    "for change in change_list:\n",
    "#     if total // change > 0: # (total // change)는 무조건 양수일 것 -> 생략\n",
    "    count += (total // change)\n",
    "#     total -= (total // change) * change # 아래의 간단한 코드로 대체 가능\n",
    "    total %= change\n",
    "\n",
    "print(count)"
   ]
  },
  {
   "cell_type": "markdown",
   "metadata": {},
   "source": [
    "# 2번"
   ]
  },
  {
   "cell_type": "code",
   "execution_count": 2,
   "metadata": {},
   "outputs": [
    {
     "name": "stdout",
     "output_type": "stream",
     "text": [
      "5 8 3\n",
      "2 4 5 4 6\n"
     ]
    }
   ],
   "source": [
    "# 2번 - 2\n",
    "\n",
    "n, m, k = map(int, input().split())\n",
    "num_list = list(map(int, input().split()))"
   ]
  },
  {
   "cell_type": "code",
   "execution_count": 7,
   "metadata": {},
   "outputs": [
    {
     "name": "stdout",
     "output_type": "stream",
     "text": [
      "46\n"
     ]
    }
   ],
   "source": [
    "first = sorted(num_list)[-1]\n",
    "second = sorted(num_list)[-2]\n",
    "\n",
    "no_single_chunk = m // (k + 1)\n",
    "value_chunk = (first * k + second * 1)\n",
    "r = m - ((k+1)*no_single_chunk)\n",
    "\n",
    "result = (value_chunk * no_single_chunk) + (first * r * no_single_chunk)\n",
    "print(result)\n",
    "\n",
    "# 가장 큰 수가 k번 더해지고 두번째 큰 수가 1번 더해지는 형태로 반복된다.\n",
    "# 따라서 K개의 가장 큰 수와 1개의 두번째로 큰 수가 더해진 형태의 '덩어리'가 생성될 것이다.\n",
    "# 전체 합은 '덩어리'가 m // (k+1)번 더해진 뒤, m-((k+1) * 앞서 더해진 횟수)번 만큼의 가장 큰 수가 더해지면 된다."
   ]
  },
  {
   "cell_type": "markdown",
   "metadata": {},
   "source": [
    "# 3번"
   ]
  },
  {
   "cell_type": "code",
   "execution_count": 33,
   "metadata": {
    "scrolled": true
   },
   "outputs": [
    {
     "name": "stdout",
     "output_type": "stream",
     "text": [
      "2 4\n",
      "7 3 1 8\n",
      "3 3 3 4\n",
      "2 번째 행의 카드를 뽑는다.\n",
      "최대값: 3\n"
     ]
    }
   ],
   "source": [
    "n, m = map(int,input().split())\n",
    "\n",
    "result = []\n",
    "for i in range(n):\n",
    "    current_row = list(map(int,input().split()))\n",
    "    current_min = min(current_row)\n",
    "    result.append(current_min)\n",
    "    \n",
    "result_max = max(result)\n",
    "print(result.index(result_max) + 1, \"번째 행의 카드를 뽑는다.\")\n",
    "print('최대값:', max(result))"
   ]
  },
  {
   "cell_type": "markdown",
   "metadata": {},
   "source": [
    "# 4번"
   ]
  },
  {
   "cell_type": "code",
   "execution_count": 37,
   "metadata": {},
   "outputs": [
    {
     "name": "stdout",
     "output_type": "stream",
     "text": [
      "25 5\n"
     ]
    }
   ],
   "source": [
    "n, k = map(int,input().split())"
   ]
  },
  {
   "cell_type": "code",
   "execution_count": 38,
   "metadata": {},
   "outputs": [
    {
     "name": "stdout",
     "output_type": "stream",
     "text": [
      "2\n"
     ]
    }
   ],
   "source": [
    "count = 0\n",
    "while True:\n",
    "    if n % k > 0:\n",
    "        n -= 1\n",
    "        count += 1\n",
    "    else:\n",
    "        n = n // k\n",
    "        count += 1\n",
    "        \n",
    "    if n == 1:\n",
    "        print(count)\n",
    "        break"
   ]
  },
  {
   "cell_type": "code",
   "execution_count": null,
   "metadata": {},
   "outputs": [],
   "source": []
  }
 ],
 "metadata": {
  "kernelspec": {
   "display_name": "Python 3",
   "language": "python",
   "name": "python3"
  },
  "language_info": {
   "codemirror_mode": {
    "name": "ipython",
    "version": 3
   },
   "file_extension": ".py",
   "mimetype": "text/x-python",
   "name": "python",
   "nbconvert_exporter": "python",
   "pygments_lexer": "ipython3",
   "version": "3.7.3"
  }
 },
 "nbformat": 4,
 "nbformat_minor": 4
}