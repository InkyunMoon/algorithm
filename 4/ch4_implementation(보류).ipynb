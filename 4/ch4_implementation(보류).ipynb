{
 "cells": [
  {
   "cell_type": "code",
   "execution_count": 54,
   "metadata": {},
   "outputs": [
    {
     "name": "stdout",
     "output_type": "stream",
     "text": [
      "5\n",
      "R R R U D D\n"
     ]
    }
   ],
   "source": [
    "# 4-1 상하좌우\n",
    "N = int(input())\n",
    "PLAN = list(input().split())"
   ]
  },
  {
   "cell_type": "code",
   "execution_count": 59,
   "metadata": {},
   "outputs": [
    {
     "name": "stdout",
     "output_type": "stream",
     "text": [
      "(3, 4)\n"
     ]
    }
   ],
   "source": [
    "x, y = 1, 1\n",
    "\n",
    "for d in PLAN:\n",
    "    if (d == 'R') and (y < N):\n",
    "        y += 1\n",
    "    elif (d == 'L') and (y > 1):\n",
    "        y -= 1\n",
    "    elif (d == 'U') and (1 < x <= N):\n",
    "        x -= 1\n",
    "    elif (d == 'D') and (1 <= x < N):\n",
    "        x += 1 \n",
    "    \n",
    "print((x,y))"
   ]
  },
  {
   "cell_type": "code",
   "execution_count": 60,
   "metadata": {},
   "outputs": [
    {
     "name": "stdout",
     "output_type": "stream",
     "text": [
      "3 4\n"
     ]
    }
   ],
   "source": [
    "# 답안지 풀이\n",
    "\n",
    "x, y = 1, 1\n",
    "\n",
    "dx = [0, 0, -1, 1]\n",
    "dy = [-1, 1, 0, 0]\n",
    "move_types = ['L', 'R', 'U', 'D'] # x의 움직임은 '열'의 움직임이므로\n",
    "\n",
    "for plan in PLAN:\n",
    "    for i in range(len(move_types)): # 1번의 루프마다 4가지 중 하나의 움직임을 수행할 것이므로\n",
    "        if plan == move_types[i]:\n",
    "            nx = x + dx[i]\n",
    "            ny = y + dy[i]\n",
    "            \n",
    "    if nx < 1 or ny < 1 or nx > N or ny > N:\n",
    "        continue # 공간을 벗어나는 경우는 무시하도록 한다.\n",
    "        \n",
    "    x, y = nx, ny # 공간을 벗어나지 않은 경우에 좌표를 업데이트한다.\n",
    "    \n",
    "print(x, y)"
   ]
  },
  {
   "cell_type": "code",
   "execution_count": null,
   "metadata": {},
   "outputs": [],
   "source": []
  }
 ],
 "metadata": {
  "kernelspec": {
   "display_name": "Python 3",
   "language": "python",
   "name": "python3"
  },
  "language_info": {
   "codemirror_mode": {
    "name": "ipython",
    "version": 3
   },
   "file_extension": ".py",
   "mimetype": "text/x-python",
   "name": "python",
   "nbconvert_exporter": "python",
   "pygments_lexer": "ipython3",
   "version": "3.7.3"
  }
 },
 "nbformat": 4,
 "nbformat_minor": 4
}
