{
 "cells": [
  {
   "cell_type": "code",
   "execution_count": 1,
   "metadata": {},
   "outputs": [
    {
     "name": "stdout",
     "output_type": "stream",
     "text": [
      "6\n"
     ]
    }
   ],
   "source": [
    "# 1번\n",
    "# 거슬러 주어야 할 돈 N원\n",
    "# 동전의 최소 갯수?\n",
    "\n",
    "total = 1260\n",
    "change_list = [500, 100, 50, 10]\n",
    "count = 0\n",
    "\n",
    "for change in change_list:\n",
    "    if total // change > 0:\n",
    "        count += (total // change)\n",
    "        total -= (total // change) * change\n",
    "\n",
    "print(count)"
   ]
  },
  {
   "cell_type": "code",
   "execution_count": 106,
   "metadata": {},
   "outputs": [
    {
     "name": "stdout",
     "output_type": "stream",
     "text": [
      "6\n"
     ]
    }
   ],
   "source": [
    "# 1번\n",
    "# 거슬러 주어야 할 돈 N원\n",
    "# 동전의 최소 갯수?\n",
    "\n",
    "total = 1260\n",
    "change_list = [500, 100, 50, 10]\n",
    "count = 0\n",
    "\n",
    "for change in change_list:\n",
    "#     if total // change > 0:\n",
    "    count += (total // change)\n",
    "    total -= (total // change) * change\n",
    "\n",
    "print(count)"
   ]
  },
  {
   "cell_type": "code",
   "execution_count": 1,
   "metadata": {},
   "outputs": [
    {
     "name": "stdout",
     "output_type": "stream",
     "text": [
      "5 8 3\n",
      "2 4 5 4 6\n"
     ]
    }
   ],
   "source": [
    "# 2번 - 2\n",
    "\n",
    "n, m, k = map(int, input().split())\n",
    "num_list = list(map(int, input().split()))"
   ]
  },
  {
   "cell_type": "code",
   "execution_count": 2,
   "metadata": {},
   "outputs": [
    {
     "name": "stdout",
     "output_type": "stream",
     "text": [
      "46\n"
     ]
    }
   ],
   "source": [
    "first = sorted(num_list)[-1]\n",
    "second = sorted(num_list)[-2]\n",
    "\n",
    "no_single_chunk = m // (k + 1)\n",
    "value_chunk = (first * k + second * 1)\n",
    "r = m - ((k+1)*no_single_chunk)\n",
    "\n",
    "result = (value_chunk * no_single_chunk) + (first * r * no_single_chunk)\n",
    "print(result)"
   ]
  },
  {
   "cell_type": "code",
   "execution_count": null,
   "metadata": {},
   "outputs": [],
   "source": []
  }
 ],
 "metadata": {
  "kernelspec": {
   "display_name": "Python 3",
   "language": "python",
   "name": "python3"
  },
  "language_info": {
   "codemirror_mode": {
    "name": "ipython",
    "version": 3
   },
   "file_extension": ".py",
   "mimetype": "text/x-python",
   "name": "python",
   "nbconvert_exporter": "python",
   "pygments_lexer": "ipython3",
   "version": "3.8.3"
  }
 },
 "nbformat": 4,
 "nbformat_minor": 4
}
